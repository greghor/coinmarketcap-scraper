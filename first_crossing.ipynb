{
 "cells": [
  {
   "cell_type": "markdown",
   "metadata": {},
   "source": [
    "We investigate here the returns of a strategy consisting of buying coins on the day they cross for the first time the rank 200 and hold them for a while. We find out that this strategy was more profitable that holding btc alone, at least for the set of hyperparameters used in this notebook. Note that the strategy is evaluated on profitably alone here, not on risk."
   ]
  },
  {
   "cell_type": "code",
   "execution_count": 4,
   "metadata": {
    "collapsed": false
   },
   "outputs": [],
   "source": [
    "import pandas as pd\n",
    "import numpy as np\n",
    "from tqdm import tqdm\n",
    "import pdb\n",
    "from IPython.display import display, HTML\n"
   ]
  },
  {
   "cell_type": "code",
   "execution_count": 5,
   "metadata": {
    "collapsed": false
   },
   "outputs": [],
   "source": [
    "df = pd.read_csv(\"all_coins.csv\")\n",
    "df[\"marketcap\"] = df[\"marketcap\"].interpolate(method=\"nearest\").fillna(0)"
   ]
  },
  {
   "cell_type": "code",
   "execution_count": 6,
   "metadata": {
    "collapsed": false
   },
   "outputs": [
    {
     "data": {
      "text/html": [
       "<div>\n",
       "<style scoped>\n",
       "    .dataframe tbody tr th:only-of-type {\n",
       "        vertical-align: middle;\n",
       "    }\n",
       "\n",
       "    .dataframe tbody tr th {\n",
       "        vertical-align: top;\n",
       "    }\n",
       "\n",
       "    .dataframe thead th {\n",
       "        text-align: right;\n",
       "    }\n",
       "</style>\n",
       "<table border=\"1\" class=\"dataframe\">\n",
       "  <thead>\n",
       "    <tr style=\"text-align: right;\">\n",
       "      <th></th>\n",
       "      <th>date</th>\n",
       "      <th>open*</th>\n",
       "      <th>high</th>\n",
       "      <th>low</th>\n",
       "      <th>close**</th>\n",
       "      <th>volume</th>\n",
       "      <th>marketcap</th>\n",
       "      <th>slug</th>\n",
       "      <th>symbol</th>\n",
       "    </tr>\n",
       "  </thead>\n",
       "  <tbody>\n",
       "    <tr>\n",
       "      <th>0</th>\n",
       "      <td>2018-06-26</td>\n",
       "      <td>6253.55</td>\n",
       "      <td>6290.16</td>\n",
       "      <td>6093.67</td>\n",
       "      <td>6093.67</td>\n",
       "      <td>3.279760e+09</td>\n",
       "      <td>1.070330e+11</td>\n",
       "      <td>bitcoin</td>\n",
       "      <td>BTC</td>\n",
       "    </tr>\n",
       "    <tr>\n",
       "      <th>1</th>\n",
       "      <td>2018-06-25</td>\n",
       "      <td>6171.97</td>\n",
       "      <td>6327.37</td>\n",
       "      <td>6119.68</td>\n",
       "      <td>6249.18</td>\n",
       "      <td>5.500810e+09</td>\n",
       "      <td>1.056250e+11</td>\n",
       "      <td>bitcoin</td>\n",
       "      <td>BTC</td>\n",
       "    </tr>\n",
       "    <tr>\n",
       "      <th>2</th>\n",
       "      <td>2018-06-24</td>\n",
       "      <td>6164.28</td>\n",
       "      <td>6223.78</td>\n",
       "      <td>5826.41</td>\n",
       "      <td>6173.23</td>\n",
       "      <td>4.566910e+09</td>\n",
       "      <td>1.054800e+11</td>\n",
       "      <td>bitcoin</td>\n",
       "      <td>BTC</td>\n",
       "    </tr>\n",
       "    <tr>\n",
       "      <th>3</th>\n",
       "      <td>2018-06-23</td>\n",
       "      <td>6090.10</td>\n",
       "      <td>6224.82</td>\n",
       "      <td>6071.81</td>\n",
       "      <td>6162.48</td>\n",
       "      <td>3.431360e+09</td>\n",
       "      <td>1.041980e+11</td>\n",
       "      <td>bitcoin</td>\n",
       "      <td>BTC</td>\n",
       "    </tr>\n",
       "    <tr>\n",
       "      <th>4</th>\n",
       "      <td>2018-06-22</td>\n",
       "      <td>6737.88</td>\n",
       "      <td>6747.08</td>\n",
       "      <td>6006.60</td>\n",
       "      <td>6083.69</td>\n",
       "      <td>5.079810e+09</td>\n",
       "      <td>1.152690e+11</td>\n",
       "      <td>bitcoin</td>\n",
       "      <td>BTC</td>\n",
       "    </tr>\n",
       "  </tbody>\n",
       "</table>\n",
       "</div>"
      ],
      "text/plain": [
       "         date    open*     high      low  close**        volume     marketcap  \\\n",
       "0  2018-06-26  6253.55  6290.16  6093.67  6093.67  3.279760e+09  1.070330e+11   \n",
       "1  2018-06-25  6171.97  6327.37  6119.68  6249.18  5.500810e+09  1.056250e+11   \n",
       "2  2018-06-24  6164.28  6223.78  5826.41  6173.23  4.566910e+09  1.054800e+11   \n",
       "3  2018-06-23  6090.10  6224.82  6071.81  6162.48  3.431360e+09  1.041980e+11   \n",
       "4  2018-06-22  6737.88  6747.08  6006.60  6083.69  5.079810e+09  1.152690e+11   \n",
       "\n",
       "      slug symbol  \n",
       "0  bitcoin    BTC  \n",
       "1  bitcoin    BTC  \n",
       "2  bitcoin    BTC  \n",
       "3  bitcoin    BTC  \n",
       "4  bitcoin    BTC  "
      ]
     },
     "execution_count": 6,
     "metadata": {},
     "output_type": "execute_result"
    }
   ],
   "source": [
    "df.head()"
   ]
  },
  {
   "cell_type": "code",
   "execution_count": 8,
   "metadata": {
    "collapsed": false
   },
   "outputs": [
    {
     "name": "stderr",
     "output_type": "stream",
     "text": [
      "  0%|          | 0/1886 [00:00<?, ?it/s]/Users/greghor/anaconda2/lib/python2.7/site-packages/ipykernel/__main__.py:5: SettingWithCopyWarning: \n",
      "A value is trying to be set on a copy of a slice from a DataFrame.\n",
      "Try using .loc[row_indexer,col_indexer] = value instead\n",
      "\n",
      "See the caveats in the documentation: http://pandas.pydata.org/pandas-docs/stable/indexing.html#indexing-view-versus-copy\n",
      "100%|██████████| 1886/1886 [02:20<00:00,  5.14it/s]\n"
     ]
    }
   ],
   "source": [
    "# 1) add rank\n",
    "dg = pd.DataFrame()\n",
    "piv = pd.DataFrame()\n",
    "for n,g in tqdm(df.groupby(\"date\")):\n",
    "    g[\"mc_rank\"] = g[\"marketcap\"].rank(ascending=False, method=\"first\")\n",
    "    dg=dg.append(g)"
   ]
  },
  {
   "cell_type": "code",
   "execution_count": 9,
   "metadata": {
    "collapsed": false
   },
   "outputs": [],
   "source": [
    "#2) add new comer flag based on thresholds (typed as list so as we can add several flags at once)\n",
    "\n",
    "def add_new_comer_flag(dg, thresholds):\n",
    "    \"\"\"\n",
    "    parameters\n",
    "    ----------\n",
    "    df: dataframe with ranks\n",
    "    thresholds: list, rank threshold for new comer flags\n",
    "    \n",
    "    return:\n",
    "    -------\n",
    "    dataframe with new comer flags\n",
    "    \"\"\"\n",
    "    \n",
    "    dh = pd.DataFrame()\n",
    "    for n, g in tqdm(dg.groupby(\"symbol\")):\n",
    "        g = g.sort_values(\"date\")\n",
    "        g[\"highest_rank\"] = np.minimum.accumulate(g[\"mc_rank\"])\n",
    "        for t in thresholds:\n",
    "            col_name = \"new_comer_\" + str(t)\n",
    "            g[col_name] = 0\n",
    "            g.loc[(g[\"highest_rank\"].shift(1) > t) & (g[\"mc_rank\"] <= t), col_name] = 1\n",
    "        dh = dh.append(g)\n",
    "    return dh"
   ]
  },
  {
   "cell_type": "code",
   "execution_count": null,
   "metadata": {
    "collapsed": false
   },
   "outputs": [
    {
     "name": "stderr",
     "output_type": "stream",
     "text": [
      " 42%|████▏     | 652/1551 [00:45<01:35,  9.43it/s]"
     ]
    }
   ],
   "source": [
    "dh = add_new_comer_flag(dg, [100, 150, 200])"
   ]
  },
  {
   "cell_type": "code",
   "execution_count": 171,
   "metadata": {
    "collapsed": false
   },
   "outputs": [],
   "source": [
    "\n",
    "#3) simulate returns\n",
    "def assets_return(df, threshold, start_buy_date, stop_buy_date, exit_date):\n",
    "    \"\"\"\n",
    "    \n",
    "    simulate the return of a portfolio that buy asset whenever it crosses the threshold rank for the first time\n",
    "    and sell the asset at exit date. Every asset get the same allocation\n",
    "    \n",
    "    parameters\n",
    "    ----------\n",
    "    df: dataframe with with new comer flags\n",
    "    threshold: threshold rank\n",
    "    start_buy_date: string, first day of buying period\n",
    "    stop_buy_date: string, last day of buying period\n",
    "    exit_date: string, sell date\n",
    "    \n",
    "    return\n",
    "    ------\n",
    "    dataframe with return for every asset as well as buy/sell price/date\n",
    "    \n",
    "    \"\"\"\n",
    "    \n",
    "    if stop_buy_date > exit_date:\n",
    "        raise ValueError(\"stop_buy_date must be smaller than exit_date\")\n",
    "    \n",
    "    cols = [\"date\", \"symbol\", \"close**\"]\n",
    "    buy_period = (df.date >= start_buy_date) & (df.date < stop_buy_date) \n",
    "    exit_cond = df.date == exit_date\n",
    "    assets_buy_price = df.loc[ buy_period & (df[\"new_comer_\" + str(threshold)] == 1), cols]\n",
    "    ret = pd.merge(assets_buy_price, df.loc[exit_cond, cols], left_on=\"symbol\", right_on=\"symbol\",\n",
    "                                                  suffixes=[\"_buy\", \"_sell\"])\n",
    "    ret[\"return\"] = (ret[\"close**_sell\"]) / ret[\"close**_buy\"] - 1\n",
    "    \n",
    "    return ret\n",
    "\n",
    "# result are benchmarked against btc\n",
    "def benchmark_return(df, entry_date, exit_date):\n",
    "    \"\"\"\n",
    "    \n",
    "    compute the return of a btc portfolio\n",
    "    \n",
    "    parameters\n",
    "    ----------\n",
    "    df: dataframe with date, price \n",
    "    entry_date: buy date\n",
    "    exit_date: sell date\n",
    "    \n",
    "    return\n",
    "    ------\n",
    "    btc portfolio return \n",
    "    \"\"\"\n",
    "    \n",
    "    in_cond = (df.symbol==\"BTC\") & (df.date == entry_date)\n",
    "    out_cond = (df.symbol==\"BTC\") & (df.date == exit_date)\n",
    "    return (df.loc[out_cond, \"close**\"].values[0]) / df.loc[in_cond, \"close**\"].values[0] - 1"
   ]
  },
  {
   "cell_type": "markdown",
   "metadata": {},
   "source": [
    "Let's buy assets that cross the rank 200 in 2017 and exit on 2018-01-01"
   ]
  },
  {
   "cell_type": "code",
   "execution_count": 177,
   "metadata": {
    "collapsed": false
   },
   "outputs": [],
   "source": [
    "entry_date = \"2017-01-01\"\n",
    "exit_date = \"2018-01-01\"\n",
    "ret = assets_return(dh, 100, entry_date, exit_date, exit_date)\n"
   ]
  },
  {
   "cell_type": "code",
   "execution_count": 179,
   "metadata": {
    "collapsed": false
   },
   "outputs": [
    {
     "data": {
      "text/html": [
       "<div>\n",
       "<style scoped>\n",
       "    .dataframe tbody tr th:only-of-type {\n",
       "        vertical-align: middle;\n",
       "    }\n",
       "\n",
       "    .dataframe tbody tr th {\n",
       "        vertical-align: top;\n",
       "    }\n",
       "\n",
       "    .dataframe thead th {\n",
       "        text-align: right;\n",
       "    }\n",
       "</style>\n",
       "<table border=\"1\" class=\"dataframe\">\n",
       "  <thead>\n",
       "    <tr style=\"text-align: right;\">\n",
       "      <th></th>\n",
       "      <th>index</th>\n",
       "      <th>close**_buy</th>\n",
       "      <th>close**_sell</th>\n",
       "      <th>return</th>\n",
       "    </tr>\n",
       "  </thead>\n",
       "  <tbody>\n",
       "    <tr>\n",
       "      <th>count</th>\n",
       "      <td>75.000000</td>\n",
       "      <td>75.000000</td>\n",
       "      <td>75.000000</td>\n",
       "      <td>75.000000</td>\n",
       "    </tr>\n",
       "    <tr>\n",
       "      <th>mean</th>\n",
       "      <td>37.000000</td>\n",
       "      <td>1.611377</td>\n",
       "      <td>9.068257</td>\n",
       "      <td>36.339189</td>\n",
       "    </tr>\n",
       "    <tr>\n",
       "      <th>std</th>\n",
       "      <td>21.794495</td>\n",
       "      <td>4.957575</td>\n",
       "      <td>45.817331</td>\n",
       "      <td>174.677334</td>\n",
       "    </tr>\n",
       "    <tr>\n",
       "      <th>min</th>\n",
       "      <td>0.000000</td>\n",
       "      <td>0.000011</td>\n",
       "      <td>0.000004</td>\n",
       "      <td>-0.999911</td>\n",
       "    </tr>\n",
       "    <tr>\n",
       "      <th>25%</th>\n",
       "      <td>18.500000</td>\n",
       "      <td>0.082710</td>\n",
       "      <td>0.092506</td>\n",
       "      <td>-0.189203</td>\n",
       "    </tr>\n",
       "    <tr>\n",
       "      <th>50%</th>\n",
       "      <td>37.000000</td>\n",
       "      <td>0.380666</td>\n",
       "      <td>0.576237</td>\n",
       "      <td>0.372323</td>\n",
       "    </tr>\n",
       "    <tr>\n",
       "      <th>75%</th>\n",
       "      <td>55.500000</td>\n",
       "      <td>1.236790</td>\n",
       "      <td>2.788920</td>\n",
       "      <td>2.922483</td>\n",
       "    </tr>\n",
       "    <tr>\n",
       "      <th>max</th>\n",
       "      <td>74.000000</td>\n",
       "      <td>41.256400</td>\n",
       "      <td>385.497000</td>\n",
       "      <td>1053.210917</td>\n",
       "    </tr>\n",
       "  </tbody>\n",
       "</table>\n",
       "</div>"
      ],
      "text/plain": [
       "           index  close**_buy  close**_sell       return\n",
       "count  75.000000    75.000000     75.000000    75.000000\n",
       "mean   37.000000     1.611377      9.068257    36.339189\n",
       "std    21.794495     4.957575     45.817331   174.677334\n",
       "min     0.000000     0.000011      0.000004    -0.999911\n",
       "25%    18.500000     0.082710      0.092506    -0.189203\n",
       "50%    37.000000     0.380666      0.576237     0.372323\n",
       "75%    55.500000     1.236790      2.788920     2.922483\n",
       "max    74.000000    41.256400    385.497000  1053.210917"
      ]
     },
     "execution_count": 179,
     "metadata": {},
     "output_type": "execute_result"
    }
   ],
   "source": [
    "ret.sort_values(\"return\").reset_index().describe()"
   ]
  },
  {
   "cell_type": "markdown",
   "metadata": {},
   "source": [
    "96 assets bough in this period, mean return around 3600% (impressive right), however 75% of the assets have less than 290% returns. Mean return is taking off because of few skyrocketters"
   ]
  },
  {
   "cell_type": "markdown",
   "metadata": {},
   "source": [
    "In the mean period the btc return is about 1250% (see below)"
   ]
  },
  {
   "cell_type": "code",
   "execution_count": 181,
   "metadata": {
    "collapsed": false
   },
   "outputs": [
    {
     "data": {
      "text/plain": [
       "12.680114191270379"
      ]
     },
     "execution_count": 181,
     "metadata": {},
     "output_type": "execute_result"
    }
   ],
   "source": [
    "benchmark_return(dh, entry_date, exit_date)"
   ]
  },
  {
   "cell_type": "markdown",
   "metadata": {},
   "source": [
    "Things don't look that great if we do the same experience for 2018, but we still beat the bitcoin. \n",
    "Again, thanks to few big winners.\n"
   ]
  },
  {
   "cell_type": "code",
   "execution_count": 185,
   "metadata": {
    "collapsed": false
   },
   "outputs": [
    {
     "name": "stdout",
     "output_type": "stream",
     "text": [
      "portfolio\n"
     ]
    },
    {
     "data": {
      "text/html": [
       "<div>\n",
       "<style scoped>\n",
       "    .dataframe tbody tr th:only-of-type {\n",
       "        vertical-align: middle;\n",
       "    }\n",
       "\n",
       "    .dataframe tbody tr th {\n",
       "        vertical-align: top;\n",
       "    }\n",
       "\n",
       "    .dataframe thead th {\n",
       "        text-align: right;\n",
       "    }\n",
       "</style>\n",
       "<table border=\"1\" class=\"dataframe\">\n",
       "  <thead>\n",
       "    <tr style=\"text-align: right;\">\n",
       "      <th></th>\n",
       "      <th>close**_buy</th>\n",
       "      <th>close**_sell</th>\n",
       "      <th>return</th>\n",
       "    </tr>\n",
       "  </thead>\n",
       "  <tbody>\n",
       "    <tr>\n",
       "      <th>count</th>\n",
       "      <td>105.000000</td>\n",
       "      <td>1.050000e+02</td>\n",
       "      <td>105.000000</td>\n",
       "    </tr>\n",
       "    <tr>\n",
       "      <th>mean</th>\n",
       "      <td>6.001100</td>\n",
       "      <td>8.705027e-01</td>\n",
       "      <td>0.174840</td>\n",
       "    </tr>\n",
       "    <tr>\n",
       "      <th>std</th>\n",
       "      <td>40.840758</td>\n",
       "      <td>2.936262e+00</td>\n",
       "      <td>4.787445</td>\n",
       "    </tr>\n",
       "    <tr>\n",
       "      <th>min</th>\n",
       "      <td>0.000048</td>\n",
       "      <td>5.377000e-07</td>\n",
       "      <td>-0.999979</td>\n",
       "    </tr>\n",
       "    <tr>\n",
       "      <th>25%</th>\n",
       "      <td>0.132718</td>\n",
       "      <td>1.988690e-02</td>\n",
       "      <td>-0.900488</td>\n",
       "    </tr>\n",
       "    <tr>\n",
       "      <th>50%</th>\n",
       "      <td>0.336202</td>\n",
       "      <td>7.511160e-02</td>\n",
       "      <td>-0.773414</td>\n",
       "    </tr>\n",
       "    <tr>\n",
       "      <th>75%</th>\n",
       "      <td>1.586720</td>\n",
       "      <td>3.281790e-01</td>\n",
       "      <td>-0.511277</td>\n",
       "    </tr>\n",
       "    <tr>\n",
       "      <th>max</th>\n",
       "      <td>415.927000</td>\n",
       "      <td>1.921140e+01</td>\n",
       "      <td>34.967924</td>\n",
       "    </tr>\n",
       "  </tbody>\n",
       "</table>\n",
       "</div>"
      ],
      "text/plain": [
       "       close**_buy  close**_sell      return\n",
       "count   105.000000  1.050000e+02  105.000000\n",
       "mean      6.001100  8.705027e-01    0.174840\n",
       "std      40.840758  2.936262e+00    4.787445\n",
       "min       0.000048  5.377000e-07   -0.999979\n",
       "25%       0.132718  1.988690e-02   -0.900488\n",
       "50%       0.336202  7.511160e-02   -0.773414\n",
       "75%       1.586720  3.281790e-01   -0.511277\n",
       "max     415.927000  1.921140e+01   34.967924"
      ]
     },
     "metadata": {},
     "output_type": "display_data"
    },
    {
     "name": "stdout",
     "output_type": "stream",
     "text": [
      "\n",
      "\n",
      "benchmark\n"
     ]
    },
    {
     "data": {
      "text/plain": [
       "1.5307199694336928"
      ]
     },
     "execution_count": 185,
     "metadata": {},
     "output_type": "execute_result"
    }
   ],
   "source": [
    "entry_date = \"2017-06-01\"\n",
    "exit_date = \"2018-06-26\"\n",
    "ret = assets_return(dh, 100, entry_date, exit_date, exit_date)\n",
    "print \"portfolio\"\n",
    "display(ret.describe())\n",
    "print \"\\n\"\n",
    "print \"benchmark\"\n",
    "benchmark_return(dh, entry_date, exit_date)\n"
   ]
  },
  {
   "cell_type": "markdown",
   "metadata": {},
   "source": [
    "A risk metric shall be added in the next steps."
   ]
  },
  {
   "cell_type": "code",
   "execution_count": null,
   "metadata": {
    "collapsed": true
   },
   "outputs": [],
   "source": []
  }
 ],
 "metadata": {
  "anaconda-cloud": {},
  "kernelspec": {
   "display_name": "Python [default]",
   "language": "python",
   "name": "python2"
  },
  "language_info": {
   "codemirror_mode": {
    "name": "ipython",
    "version": 2
   },
   "file_extension": ".py",
   "mimetype": "text/x-python",
   "name": "python",
   "nbconvert_exporter": "python",
   "pygments_lexer": "ipython2",
   "version": "2.7.12"
  }
 },
 "nbformat": 4,
 "nbformat_minor": 0
}
